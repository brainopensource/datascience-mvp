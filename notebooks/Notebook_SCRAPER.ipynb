{
 "cells": [
  {
   "cell_type": "code",
   "execution_count": 0,
   "metadata": {
    "application/vnd.databricks.v1+cell": {
     "cellMetadata": {
      "byteLimit": 2048000,
      "rowLimit": 10000
     },
     "inputWidgets": {},
     "nuid": "41c813d4-89de-41b1-a8d5-fd6a88c4c66d",
     "showTitle": false,
     "tableResultSettingsMap": {},
     "title": ""
    }
   },
   "outputs": [
    {
     "output_type": "display_data",
     "data": {
      "application/vnd.databricks.v1+bamboolib_hint": "{\"pd.DataFrames\": [], \"version\": \"0.0.1\"}",
      "text/plain": []
     },
     "metadata": {},
     "output_type": "display_data"
    }
   ],
   "source": [
    "import pandas as pd"
   ]
  },
  {
   "cell_type": "code",
   "execution_count": 0,
   "metadata": {
    "application/vnd.databricks.v1+cell": {
     "cellMetadata": {
      "byteLimit": 2048000,
      "rowLimit": 10000
     },
     "inputWidgets": {},
     "nuid": "cbd41d35-5640-4cfd-b098-da0f0e9ef4bd",
     "showTitle": false,
     "tableResultSettingsMap": {},
     "title": ""
    }
   },
   "outputs": [],
   "source": [
    "# Criando lista de anos e meses\n",
    "anos_mar = [year for year in range(1980, 2025)]  # Para 'mar', todos os anos de 1980 a 2024\n",
    "anos_pre_sal = [year for year in range(2011, 2025)]  # Para 'pre sal', de 2011 a 2024\n",
    "meses = [str(i).zfill(2) for i in range(1, 13)]  # Meses de 01 a 12\n",
    "\n",
    "# Criando listas 1D para URLs de 'mar' e 'pre sal'\n",
    "urls_mar = []\n",
    "urls_pre_sal = []\n",
    "\n",
    "# Iterando para criar as listas de URLs para 'mar' e 'pre sal'\n",
    "for ano in anos_mar:\n",
    "    if ano == 2024:\n",
    "        meses_ano = meses[:6]  # Apenas os primeiros 6 meses de 2024\n",
    "    else:\n",
    "        meses_ano = meses  # Todos os meses para os outros anos\n",
    "\n",
    "    # URL para o arquivo 'Mar' (desde 1980 até 2024)\n",
    "    for mes in meses_ano:\n",
    "        url_mar = f'https://raw.githubusercontent.com/brainopensource/datascience-mvp/refs/heads/main/datasets/monthly_production/{ano}/{ano}_{mes}_producao_Mar.csv'\n",
    "        urls_mar.append(url_mar)\n",
    "\n",
    "# Para o 'pre sal', somente a partir de 2011\n",
    "for ano in anos_pre_sal:\n",
    "    if ano == 2024:\n",
    "        meses_ano = meses[:6]  # Apenas os primeiros 6 meses de 2024\n",
    "    else:\n",
    "        meses_ano = meses  # Todos os meses para os outros anos\n",
    "\n",
    "    for mes in meses_ano:\n",
    "        # URL para o arquivo 'PreSal' (apenas de 2011 até 2024)\n",
    "        url_pre_sal = f'https://raw.githubusercontent.com/brainopensource/datascience-mvp/refs/heads/main/datasets/monthly_production/{ano}/{ano}_{mes}_producao_PreSal.csv'\n",
    "        urls_pre_sal.append(url_pre_sal)"
   ]
  },
  {
   "cell_type": "code",
   "execution_count": 0,
   "metadata": {
    "application/vnd.databricks.v1+cell": {
     "cellMetadata": {
      "byteLimit": 2048000,
      "rowLimit": 10000
     },
     "inputWidgets": {},
     "nuid": "1273ecb2-1b40-4c3f-bdf9-57ff1cb5b770",
     "showTitle": false,
     "tableResultSettingsMap": {},
     "title": ""
    }
   },
   "outputs": [
    {
     "output_type": "stream",
     "name": "stdout",
     "output_type": "stream",
     "text": [
      "PreSal DataFrame:\n"
     ]
    },
    {
     "output_type": "display_data",
     "data": {
      "text/html": [
       "<style scoped>\n",
       "  .table-result-container {\n",
       "    max-height: 300px;\n",
       "    overflow: auto;\n",
       "  }\n",
       "  table, th, td {\n",
       "    border: 1px solid black;\n",
       "    border-collapse: collapse;\n",
       "  }\n",
       "  th, td {\n",
       "    padding: 5px;\n",
       "  }\n",
       "  th {\n",
       "    text-align: left;\n",
       "  }\n",
       "</style><div class='table-result-container'><table class='table-result'><thead style='background-color: white'><tr><th>Estado</th><th>Bacia</th><th>Nome Poço ANP</th><th>Nome Poço Operador</th><th>Campo</th><th>Operador</th><th>Número do Contrato</th><th>Período</th><th>Óleo (bbl/dia)</th><th>Condensado (bbl/dia)</th><th>Petróleo (bbl/dia)</th><th>Gás Natural (Mm³/dia) Assoc</th><th>Gás Natural (Mm³/dia) N Assoc</th><th>Gás Natural (Mm³/dia) Total</th><th>Volume Gás Royalties (m³/mês)</th><th>Água (bbl/dia)</th><th>Instalação Destino</th><th>Tipo Instalação</th><th>Tempo de Produção (hs por mês)</th><th>Período da Carga</th><th>Corrente</th><th>Grau API</th><th>Fração de Destilados|Lev|Cort</th><th>Fração de Destilados|Lev|Vol</th><th>Fração de Destilados|Méd|Corte</th><th>Fração de Destilados|Méd|Vol</th><th>Fração de Destilados|Pes|Corte</th><th>Fração de Destilados|Pes|Vol</th><th>% em Volumes Metano</th><th>% em Volumes Etano</th><th>% em Volumes Propano</th><th>% em Volumes Iso-Butano</th><th>% em Volumes Butano</th><th>% em Volumes Iso-Pentano</th><th>% em Volumes n-Pentano</th><th>% em Volumes Hexanos</th><th>% em Volumes Heptanos</th><th>% em Volumes Octanos</th><th>% em Volumes Nonanos</th><th>% em Volumes Decanos</th><th>% em Volumes Undecanos</th><th>% em Volumes Oxigênio</th><th>% em Volumes Nitrogênio</th><th>% em Volumes Gás Carbônico</th><th>Densidade GLP Gás</th><th>Densidade GLP Líquido</th><th>PCS GP(kJ/m³)</th><th>Data de atualização</th></tr></thead><tbody><tr><td>Rio de Janeiro</td><td>Campos</td><td>3-RJS-159-RJS</td><td>3RJS 0159  RJ</td><td>PAMPO</td><td>Trident Energy</td><td>480000037079755</td><td>2011/01</td><td>293</td><td>0</td><td>293</td><td>8,1454</td><td>0</td><td>8,1454</td><td>250,19692</td><td>125,5683</td><td>PLATAFORMA DE PAMPO-1</td><td>UEP</td><td>0</td><td>null</td><td>null</td><td>null</td><td>< ºC</td><td>%</td><td>null</td><td>%</td><td>> ºC</td><td>%</td><td>null</td><td>null</td><td>null</td><td>null</td><td>null</td><td>null</td><td>null</td><td>null</td><td>null</td><td>null</td><td>null</td><td>null</td><td>null</td><td>null</td><td>null</td><td>null</td><td>null</td><td>null</td><td>null</td><td>14/11/2024</td></tr><tr><td>Rio de Janeiro</td><td>Campos</td><td>7-PM-17D-RJS</td><td>7PM  0017D RJS</td><td>PAMPO</td><td>Trident Energy</td><td>480000037079755</td><td>2011/01</td><td>196,6633</td><td>0</td><td>196,6633</td><td>3,0835</td><td>0</td><td>3,0835</td><td>94,71385</td><td>12,55</td><td>PLATAFORMA DE PAMPO-1</td><td>UEP</td><td>0</td><td>null</td><td>null</td><td>null</td><td>< ºC</td><td>%</td><td>null</td><td>%</td><td>> ºC</td><td>%</td><td>null</td><td>null</td><td>null</td><td>null</td><td>null</td><td>null</td><td>null</td><td>null</td><td>null</td><td>null</td><td>null</td><td>null</td><td>null</td><td>null</td><td>null</td><td>null</td><td>null</td><td>null</td><td>null</td><td>14/11/2024</td></tr></tbody></table></div>"
      ]
     },
     "metadata": {
      "application/vnd.databricks.v1+output": {
       "addedWidgets": {},
       "aggData": [],
       "aggError": "",
       "aggOverflow": false,
       "aggSchema": [],
       "aggSeriesLimitReached": false,
       "aggType": "",
       "arguments": {},
       "columnCustomDisplayInfos": {},
       "data": [
        [
         "Rio de Janeiro",
         "Campos",
         "3-RJS-159-RJS",
         "3RJS 0159  RJ",
         "PAMPO",
         "Trident Energy",
         480000037079755,
         "2011/01",
         "293",
         0,
         "293",
         "8,1454",
         0,
         "8,1454",
         "250,19692",
         "125,5683",
         "PLATAFORMA DE PAMPO-1",
         "UEP",
         0,
         null,
         null,
         null,
         "< ºC",
         "%",
         null,
         "%",
         "> ºC",
         "%",
         null,
         null,
         null,
         null,
         null,
         null,
         null,
         null,
         null,
         null,
         null,
         null,
         null,
         null,
         null,
         null,
         null,
         null,
         null,
         "14/11/2024"
        ],
        [
         "Rio de Janeiro",
         "Campos",
         "7-PM-17D-RJS",
         "7PM  0017D RJS",
         "PAMPO",
         "Trident Energy",
         480000037079755,
         "2011/01",
         "196,6633",
         0,
         "196,6633",
         "3,0835",
         0,
         "3,0835",
         "94,71385",
         "12,55",
         "PLATAFORMA DE PAMPO-1",
         "UEP",
         0,
         null,
         null,
         null,
         "< ºC",
         "%",
         null,
         "%",
         "> ºC",
         "%",
         null,
         null,
         null,
         null,
         null,
         null,
         null,
         null,
         null,
         null,
         null,
         null,
         null,
         null,
         null,
         null,
         null,
         null,
         null,
         "14/11/2024"
        ]
       ],
       "datasetInfos": [],
       "dbfsResultPath": null,
       "isJsonSchema": true,
       "metadata": {},
       "overflow": false,
       "plotOptions": {
        "customPlotOptions": {},
        "displayType": "table",
        "pivotAggregation": null,
        "pivotColumns": null,
        "xColumns": null,
        "yColumns": null
       },
       "removedWidgets": [],
       "schema": [
        {
         "metadata": "{}",
         "name": "Estado",
         "type": "\"string\""
        },
        {
         "metadata": "{}",
         "name": "Bacia",
         "type": "\"string\""
        },
        {
         "metadata": "{}",
         "name": "Nome Poço ANP",
         "type": "\"string\""
        },
        {
         "metadata": "{}",
         "name": "Nome Poço Operador",
         "type": "\"string\""
        },
        {
         "metadata": "{}",
         "name": "Campo",
         "type": "\"string\""
        },
        {
         "metadata": "{}",
         "name": "Operador",
         "type": "\"string\""
        },
        {
         "metadata": "{}",
         "name": "Número do Contrato",
         "type": "\"long\""
        },
        {
         "metadata": "{}",
         "name": "Período",
         "type": "\"string\""
        },
        {
         "metadata": "{}",
         "name": "Óleo (bbl/dia)",
         "type": "\"string\""
        },
        {
         "metadata": "{}",
         "name": "Condensado (bbl/dia)",
         "type": "\"long\""
        },
        {
         "metadata": "{}",
         "name": "Petróleo (bbl/dia)",
         "type": "\"string\""
        },
        {
         "metadata": "{}",
         "name": "Gás Natural (Mm³/dia) Assoc",
         "type": "\"string\""
        },
        {
         "metadata": "{}",
         "name": "Gás Natural (Mm³/dia) N Assoc",
         "type": "\"long\""
        },
        {
         "metadata": "{}",
         "name": "Gás Natural (Mm³/dia) Total",
         "type": "\"string\""
        },
        {
         "metadata": "{}",
         "name": "Volume Gás Royalties (m³/mês)",
         "type": "\"string\""
        },
        {
         "metadata": "{}",
         "name": "Água (bbl/dia)",
         "type": "\"string\""
        },
        {
         "metadata": "{}",
         "name": "Instalação Destino",
         "type": "\"string\""
        },
        {
         "metadata": "{}",
         "name": "Tipo Instalação",
         "type": "\"string\""
        },
        {
         "metadata": "{}",
         "name": "Tempo de Produção (hs por mês)",
         "type": "\"long\""
        },
        {
         "metadata": "{}",
         "name": "Período da Carga",
         "type": "\"void\""
        },
        {
         "metadata": "{}",
         "name": "Corrente",
         "type": "\"void\""
        },
        {
         "metadata": "{}",
         "name": "Grau API",
         "type": "\"void\""
        },
        {
         "metadata": "{}",
         "name": "Fração de Destilados|Lev|Cort",
         "type": "\"string\""
        },
        {
         "metadata": "{}",
         "name": "Fração de Destilados|Lev|Vol",
         "type": "\"string\""
        },
        {
         "metadata": "{}",
         "name": "Fração de Destilados|Méd|Corte",
         "type": "\"void\""
        },
        {
         "metadata": "{}",
         "name": "Fração de Destilados|Méd|Vol",
         "type": "\"string\""
        },
        {
         "metadata": "{}",
         "name": "Fração de Destilados|Pes|Corte",
         "type": "\"string\""
        },
        {
         "metadata": "{}",
         "name": "Fração de Destilados|Pes|Vol",
         "type": "\"string\""
        },
        {
         "metadata": "{}",
         "name": "% em Volumes Metano",
         "type": "\"void\""
        },
        {
         "metadata": "{}",
         "name": "% em Volumes Etano",
         "type": "\"void\""
        },
        {
         "metadata": "{}",
         "name": "% em Volumes Propano",
         "type": "\"void\""
        },
        {
         "metadata": "{}",
         "name": "% em Volumes Iso-Butano",
         "type": "\"void\""
        },
        {
         "metadata": "{}",
         "name": "% em Volumes Butano",
         "type": "\"void\""
        },
        {
         "metadata": "{}",
         "name": "% em Volumes Iso-Pentano",
         "type": "\"void\""
        },
        {
         "metadata": "{}",
         "name": "% em Volumes n-Pentano",
         "type": "\"void\""
        },
        {
         "metadata": "{}",
         "name": "% em Volumes Hexanos",
         "type": "\"void\""
        },
        {
         "metadata": "{}",
         "name": "% em Volumes Heptanos",
         "type": "\"void\""
        },
        {
         "metadata": "{}",
         "name": "% em Volumes Octanos",
         "type": "\"void\""
        },
        {
         "metadata": "{}",
         "name": "% em Volumes Nonanos",
         "type": "\"void\""
        },
        {
         "metadata": "{}",
         "name": "% em Volumes Decanos",
         "type": "\"void\""
        },
        {
         "metadata": "{}",
         "name": "% em Volumes Undecanos",
         "type": "\"double\""
        },
        {
         "metadata": "{}",
         "name": "% em Volumes Oxigênio",
         "type": "\"void\""
        },
        {
         "metadata": "{}",
         "name": "% em Volumes Nitrogênio",
         "type": "\"void\""
        },
        {
         "metadata": "{}",
         "name": "% em Volumes Gás Carbônico",
         "type": "\"void\""
        },
        {
         "metadata": "{}",
         "name": "Densidade GLP Gás",
         "type": "\"void\""
        },
        {
         "metadata": "{}",
         "name": "Densidade GLP Líquido",
         "type": "\"void\""
        },
        {
         "metadata": "{}",
         "name": "PCS GP(kJ/m³)",
         "type": "\"void\""
        },
        {
         "metadata": "{}",
         "name": "Data de atualização",
         "type": "\"string\""
        }
       ],
       "type": "table"
      }
     },
     "output_type": "display_data"
    },
    {
     "output_type": "stream",
     "name": "stdout",
     "output_type": "stream",
     "text": [
      "\nMar DataFrame:\n"
     ]
    },
    {
     "output_type": "display_data",
     "data": {
      "text/html": [
       "<style scoped>\n",
       "  .table-result-container {\n",
       "    max-height: 300px;\n",
       "    overflow: auto;\n",
       "  }\n",
       "  table, th, td {\n",
       "    border: 1px solid black;\n",
       "    border-collapse: collapse;\n",
       "  }\n",
       "  th, td {\n",
       "    padding: 5px;\n",
       "  }\n",
       "  th {\n",
       "    text-align: left;\n",
       "  }\n",
       "</style><div class='table-result-container'><table class='table-result'><thead style='background-color: white'><tr><th>Estado</th><th>Bacia</th><th>Nome Poço ANP</th><th>Nome Poço Operador</th><th>Campo</th><th>Operador</th><th>Número do Contrato</th><th>Período</th><th>Óleo (bbl/dia)</th><th>Condensado (bbl/dia)</th><th>Petróleo (bbl/dia)</th><th>Gás Natural (Mm³/dia) Assoc</th><th>Gás Natural (Mm³/dia) N Assoc</th><th>Gás Natural (Mm³/dia) Total</th><th>Volume Gás Royalties (m³/mês)</th><th>Água (bbl/dia)</th><th>Instalação Destino</th><th>Tipo Instalação</th><th>Tempo de Produção (hs por mês)</th><th>Período da Carga</th><th>Corrente</th><th>Grau API</th><th>Fração de Destilados|Lev|Cort</th><th>Fração de Destilados|Lev|Vol</th><th>Fração de Destilados|Méd|Corte</th><th>Fração de Destilados|Méd|Vol</th><th>Fração de Destilados|Pes|Corte</th><th>Fração de Destilados|Pes|Vol</th><th>% em Volumes Metano</th><th>% em Volumes Etano</th><th>% em Volumes Propano</th><th>% em Volumes Iso-Butano</th><th>% em Volumes Butano</th><th>% em Volumes Iso-Pentano</th><th>% em Volumes n-Pentano</th><th>% em Volumes Hexanos</th><th>% em Volumes Heptanos</th><th>% em Volumes Octanos</th><th>% em Volumes Nonanos</th><th>% em Volumes Decanos</th><th>% em Volumes Undecanos</th><th>% em Volumes Oxigênio</th><th>% em Volumes Nitrogênio</th><th>% em Volumes Gás Carbônico</th><th>Densidade GLP Gás</th><th>Densidade GLP Líquido</th><th>PCS GP(kJ/m³)</th><th>Data de atualização</th></tr></thead><tbody><tr><td>Sergipe</td><td>Sergipe</td><td>7-GA-15-SES</td><td>7GA  0015  SES</td><td>GUARICEMA</td><td>Petrobras</td><td>480000038399796</td><td>1980/01</td><td>433,1041</td><td>0</td><td>433,1041</td><td>17,1308</td><td>0</td><td>17,1308</td><td>0</td><td>1,0956</td><td>null</td><td>null</td><td>0</td><td>null</td><td>null</td><td>null</td><td>< ºC</td><td>%</td><td>null</td><td>%</td><td>> ºC</td><td>%</td><td>null</td><td>null</td><td>null</td><td>null</td><td>null</td><td>null</td><td>null</td><td>null</td><td>null</td><td>null</td><td>null</td><td>null</td><td>null</td><td>null</td><td>null</td><td>null</td><td>null</td><td>null</td><td>null</td><td>14/11/2024</td></tr><tr><td>Sergipe</td><td>Sergipe</td><td>7-GA-18D-SES</td><td>7GA  0018D SES</td><td>GUARICEMA</td><td>Petrobras</td><td>480000038399796</td><td>1980/01</td><td>300,0239</td><td>0</td><td>300,0239</td><td>3,7661</td><td>0</td><td>3,7661</td><td>0</td><td>,629</td><td>null</td><td>null</td><td>0</td><td>null</td><td>null</td><td>null</td><td>< ºC</td><td>%</td><td>null</td><td>%</td><td>> ºC</td><td>%</td><td>null</td><td>null</td><td>null</td><td>null</td><td>null</td><td>null</td><td>null</td><td>null</td><td>null</td><td>null</td><td>null</td><td>null</td><td>null</td><td>null</td><td>null</td><td>null</td><td>null</td><td>null</td><td>null</td><td>14/11/2024</td></tr></tbody></table></div>"
      ]
     },
     "metadata": {
      "application/vnd.databricks.v1+output": {
       "addedWidgets": {},
       "aggData": [],
       "aggError": "",
       "aggOverflow": false,
       "aggSchema": [],
       "aggSeriesLimitReached": false,
       "aggType": "",
       "arguments": {},
       "columnCustomDisplayInfos": {},
       "data": [
        [
         "Sergipe",
         "Sergipe",
         "7-GA-15-SES",
         "7GA  0015  SES",
         "GUARICEMA",
         "Petrobras",
         "480000038399796",
         "1980/01",
         "433,1041",
         0,
         "433,1041",
         "17,1308",
         0,
         "17,1308",
         0,
         "1,0956",
         null,
         null,
         0,
         null,
         null,
         null,
         "< ºC",
         "%",
         null,
         "%",
         "> ºC",
         "%",
         null,
         null,
         null,
         null,
         null,
         null,
         null,
         null,
         null,
         null,
         null,
         null,
         null,
         null,
         null,
         null,
         null,
         null,
         null,
         "14/11/2024"
        ],
        [
         "Sergipe",
         "Sergipe",
         "7-GA-18D-SES",
         "7GA  0018D SES",
         "GUARICEMA",
         "Petrobras",
         "480000038399796",
         "1980/01",
         "300,0239",
         0,
         "300,0239",
         "3,7661",
         0,
         "3,7661",
         0,
         ",629",
         null,
         null,
         0,
         null,
         null,
         null,
         "< ºC",
         "%",
         null,
         "%",
         "> ºC",
         "%",
         null,
         null,
         null,
         null,
         null,
         null,
         null,
         null,
         null,
         null,
         null,
         null,
         null,
         null,
         null,
         null,
         null,
         null,
         null,
         "14/11/2024"
        ]
       ],
       "datasetInfos": [],
       "dbfsResultPath": null,
       "isJsonSchema": true,
       "metadata": {},
       "overflow": false,
       "plotOptions": {
        "customPlotOptions": {},
        "displayType": "table",
        "pivotAggregation": null,
        "pivotColumns": null,
        "xColumns": null,
        "yColumns": null
       },
       "removedWidgets": [],
       "schema": [
        {
         "metadata": "{}",
         "name": "Estado",
         "type": "\"string\""
        },
        {
         "metadata": "{}",
         "name": "Bacia",
         "type": "\"string\""
        },
        {
         "metadata": "{}",
         "name": "Nome Poço ANP",
         "type": "\"string\""
        },
        {
         "metadata": "{}",
         "name": "Nome Poço Operador",
         "type": "\"string\""
        },
        {
         "metadata": "{}",
         "name": "Campo",
         "type": "\"string\""
        },
        {
         "metadata": "{}",
         "name": "Operador",
         "type": "\"string\""
        },
        {
         "metadata": "{}",
         "name": "Número do Contrato",
         "type": "\"string\""
        },
        {
         "metadata": "{}",
         "name": "Período",
         "type": "\"string\""
        },
        {
         "metadata": "{}",
         "name": "Óleo (bbl/dia)",
         "type": "\"string\""
        },
        {
         "metadata": "{}",
         "name": "Condensado (bbl/dia)",
         "type": "\"long\""
        },
        {
         "metadata": "{}",
         "name": "Petróleo (bbl/dia)",
         "type": "\"string\""
        },
        {
         "metadata": "{}",
         "name": "Gás Natural (Mm³/dia) Assoc",
         "type": "\"string\""
        },
        {
         "metadata": "{}",
         "name": "Gás Natural (Mm³/dia) N Assoc",
         "type": "\"long\""
        },
        {
         "metadata": "{}",
         "name": "Gás Natural (Mm³/dia) Total",
         "type": "\"string\""
        },
        {
         "metadata": "{}",
         "name": "Volume Gás Royalties (m³/mês)",
         "type": "\"long\""
        },
        {
         "metadata": "{}",
         "name": "Água (bbl/dia)",
         "type": "\"string\""
        },
        {
         "metadata": "{}",
         "name": "Instalação Destino",
         "type": "\"void\""
        },
        {
         "metadata": "{}",
         "name": "Tipo Instalação",
         "type": "\"void\""
        },
        {
         "metadata": "{}",
         "name": "Tempo de Produção (hs por mês)",
         "type": "\"long\""
        },
        {
         "metadata": "{}",
         "name": "Período da Carga",
         "type": "\"void\""
        },
        {
         "metadata": "{}",
         "name": "Corrente",
         "type": "\"void\""
        },
        {
         "metadata": "{}",
         "name": "Grau API",
         "type": "\"void\""
        },
        {
         "metadata": "{}",
         "name": "Fração de Destilados|Lev|Cort",
         "type": "\"string\""
        },
        {
         "metadata": "{}",
         "name": "Fração de Destilados|Lev|Vol",
         "type": "\"string\""
        },
        {
         "metadata": "{}",
         "name": "Fração de Destilados|Méd|Corte",
         "type": "\"void\""
        },
        {
         "metadata": "{}",
         "name": "Fração de Destilados|Méd|Vol",
         "type": "\"string\""
        },
        {
         "metadata": "{}",
         "name": "Fração de Destilados|Pes|Corte",
         "type": "\"string\""
        },
        {
         "metadata": "{}",
         "name": "Fração de Destilados|Pes|Vol",
         "type": "\"string\""
        },
        {
         "metadata": "{}",
         "name": "% em Volumes Metano",
         "type": "\"void\""
        },
        {
         "metadata": "{}",
         "name": "% em Volumes Etano",
         "type": "\"void\""
        },
        {
         "metadata": "{}",
         "name": "% em Volumes Propano",
         "type": "\"void\""
        },
        {
         "metadata": "{}",
         "name": "% em Volumes Iso-Butano",
         "type": "\"void\""
        },
        {
         "metadata": "{}",
         "name": "% em Volumes Butano",
         "type": "\"void\""
        },
        {
         "metadata": "{}",
         "name": "% em Volumes Iso-Pentano",
         "type": "\"void\""
        },
        {
         "metadata": "{}",
         "name": "% em Volumes n-Pentano",
         "type": "\"void\""
        },
        {
         "metadata": "{}",
         "name": "% em Volumes Hexanos",
         "type": "\"void\""
        },
        {
         "metadata": "{}",
         "name": "% em Volumes Heptanos",
         "type": "\"void\""
        },
        {
         "metadata": "{}",
         "name": "% em Volumes Octanos",
         "type": "\"void\""
        },
        {
         "metadata": "{}",
         "name": "% em Volumes Nonanos",
         "type": "\"void\""
        },
        {
         "metadata": "{}",
         "name": "% em Volumes Decanos",
         "type": "\"void\""
        },
        {
         "metadata": "{}",
         "name": "% em Volumes Undecanos",
         "type": "\"void\""
        },
        {
         "metadata": "{}",
         "name": "% em Volumes Oxigênio",
         "type": "\"void\""
        },
        {
         "metadata": "{}",
         "name": "% em Volumes Nitrogênio",
         "type": "\"void\""
        },
        {
         "metadata": "{}",
         "name": "% em Volumes Gás Carbônico",
         "type": "\"void\""
        },
        {
         "metadata": "{}",
         "name": "Densidade GLP Gás",
         "type": "\"void\""
        },
        {
         "metadata": "{}",
         "name": "Densidade GLP Líquido",
         "type": "\"void\""
        },
        {
         "metadata": "{}",
         "name": "PCS GP(kJ/m³)",
         "type": "\"void\""
        },
        {
         "metadata": "{}",
         "name": "Data de atualização",
         "type": "\"string\""
        }
       ],
       "type": "table"
      }
     },
     "output_type": "display_data"
    }
   ],
   "source": [
    "pre_sal_list = [pd.read_csv(url, sep=';', encoding='latin-1') for url in urls_pre_sal]\n",
    "mar_list = [pd.read_csv(url, sep=';', encoding='latin-1') for url in urls_mar]\n",
    "\n",
    "# Carregando os arquivos 'PreSal' e 'Mar' nos respectivos DataFrames com encoding='latin-1'\n",
    "df_pre_sal = pd.concat(pre_sal_list, ignore_index=True)\n",
    "df_mar = pd.concat(mar_list, ignore_index=True)\n",
    "\n",
    "# Exibindo os primeiros registros para verificar\n",
    "print(\"PreSal DataFrame:\")\n",
    "display(df_pre_sal.head(2))  # Exemplo para visualizar os primeiros registros do df_pre_sal\n",
    "\n",
    "print(\"\\nMar DataFrame:\")\n",
    "display(df_mar.head(2))  # Exemplo para visualizar os primeiros registros do df_mar"
   ]
  },
  {
   "cell_type": "code",
   "execution_count": 0,
   "metadata": {
    "application/vnd.databricks.v1+cell": {
     "cellMetadata": {
      "byteLimit": 2048000,
      "rowLimit": 10000
     },
     "inputWidgets": {},
     "nuid": "064d55db-ec3a-45f0-872a-22c6adc2649f",
     "showTitle": false,
     "tableResultSettingsMap": {},
     "title": ""
    }
   },
   "outputs": [
    {
     "output_type": "stream",
     "name": "stdout",
     "output_type": "stream",
     "text": [
      "\n Tipos de dados das colunas após conversão \n\n estado                                 object\nbacia                                  object\nnome_poco_anp                          object\nnome_poco_operador                     object\ncampo                                  object\noperador                               object\nnumero_contrato                        object\nperiodo                        datetime64[ns]\noleo_bbldia                           float64\ncondensado_bbldia                     float64\npetroleo_bbldia                       float64\ngas_natural_m3dia_assoc               float64\ngas_natural_m3dia_nassoc              float64\ngas_natural_m3dia_total               float64\nvolume_gas_royalties_m3mes            float64\nagua_bbldia                           float64\ninstalacao_destino                     object\ntipo_instalacao                        object\ntempo_producao_hspormes                 int64\nperiodo_carga                          object\ncorrente                               object\ngrau_api                               object\nfracao_destilados_lev_corte            object\nfracao_destilados_lev_vol              object\nfracao_destilados_med_corte            object\nfracao_destilados_med_vol              object\nfracao_destilados_pes_corte            object\nfracao_destilados_pes_vol              object\nperc_vol_metano                        object\nperc_vol_etano                         object\nperc_vol_propano                       object\nperc_vol_isobutano                     object\nperc_vol_butano                        object\nperc_vol_isopentano                    object\nperc_vol_npentano                      object\nperc_vol_hexanos                       object\nperc_vol_heptanos                      object\nperc_vol_octanos                       object\nperc_vol_nonanos                       object\nperc_vol_decanos                       object\nperc_vol_undecanos                    float64\nperc_vol_oxigenio                      object\nperc_vol_nitrogenio                    object\nperc_vol_gas_carbonico                 object\ndensidade_glp_gas                      object\ndensidade_glp_liquido                  object\npcs_gp_kj_m3                           object\ndata_atualizacao                       object\ndtype: object\n"
     ]
    },
    {
     "output_type": "display_data",
     "data": {
      "text/html": [
       "<style scoped>\n",
       "  .table-result-container {\n",
       "    max-height: 300px;\n",
       "    overflow: auto;\n",
       "  }\n",
       "  table, th, td {\n",
       "    border: 1px solid black;\n",
       "    border-collapse: collapse;\n",
       "  }\n",
       "  th, td {\n",
       "    padding: 5px;\n",
       "  }\n",
       "  th {\n",
       "    text-align: left;\n",
       "  }\n",
       "</style><div class='table-result-container'><table class='table-result'><thead style='background-color: white'><tr><th>estado</th><th>bacia</th><th>nome_poco_anp</th><th>nome_poco_operador</th><th>campo</th><th>operador</th><th>numero_contrato</th><th>periodo</th><th>oleo_bbldia</th><th>condensado_bbldia</th><th>petroleo_bbldia</th><th>gas_natural_m3dia_assoc</th><th>gas_natural_m3dia_nassoc</th><th>gas_natural_m3dia_total</th><th>volume_gas_royalties_m3mes</th><th>agua_bbldia</th><th>instalacao_destino</th><th>tipo_instalacao</th><th>tempo_producao_hspormes</th><th>periodo_carga</th><th>corrente</th><th>grau_api</th><th>fracao_destilados_lev_corte</th><th>fracao_destilados_lev_vol</th><th>fracao_destilados_med_corte</th><th>fracao_destilados_med_vol</th><th>fracao_destilados_pes_corte</th><th>fracao_destilados_pes_vol</th><th>perc_vol_metano</th><th>perc_vol_etano</th><th>perc_vol_propano</th><th>perc_vol_isobutano</th><th>perc_vol_butano</th><th>perc_vol_isopentano</th><th>perc_vol_npentano</th><th>perc_vol_hexanos</th><th>perc_vol_heptanos</th><th>perc_vol_octanos</th><th>perc_vol_nonanos</th><th>perc_vol_decanos</th><th>perc_vol_undecanos</th><th>perc_vol_oxigenio</th><th>perc_vol_nitrogenio</th><th>perc_vol_gas_carbonico</th><th>densidade_glp_gas</th><th>densidade_glp_liquido</th><th>pcs_gp_kj_m3</th><th>data_atualizacao</th></tr></thead><tbody><tr><td>Rio de Janeiro</td><td>Campos</td><td>3-RJS-159-RJS</td><td>3RJS 0159  RJ</td><td>PAMPO</td><td>Trident Energy</td><td>480000037079755</td><td>2011-01-01T00:00:00.000+0000</td><td>293.0</td><td>0.0</td><td>293.0</td><td>8.1454</td><td>0.0</td><td>8.1454</td><td>250.19692</td><td>125.5683</td><td>PLATAFORMA DE PAMPO-1</td><td>UEP</td><td>0</td><td>null</td><td>null</td><td>null</td><td>< ºC</td><td>%</td><td>null</td><td>%</td><td>> ºC</td><td>%</td><td>null</td><td>null</td><td>null</td><td>null</td><td>null</td><td>null</td><td>null</td><td>null</td><td>null</td><td>null</td><td>null</td><td>null</td><td>null</td><td>null</td><td>null</td><td>null</td><td>null</td><td>null</td><td>null</td><td>14/11/2024</td></tr><tr><td>Rio de Janeiro</td><td>Campos</td><td>7-PM-17D-RJS</td><td>7PM  0017D RJS</td><td>PAMPO</td><td>Trident Energy</td><td>480000037079755</td><td>2011-01-01T00:00:00.000+0000</td><td>196.6633</td><td>0.0</td><td>196.6633</td><td>3.0835</td><td>0.0</td><td>3.0835</td><td>94.71385</td><td>12.55</td><td>PLATAFORMA DE PAMPO-1</td><td>UEP</td><td>0</td><td>null</td><td>null</td><td>null</td><td>< ºC</td><td>%</td><td>null</td><td>%</td><td>> ºC</td><td>%</td><td>null</td><td>null</td><td>null</td><td>null</td><td>null</td><td>null</td><td>null</td><td>null</td><td>null</td><td>null</td><td>null</td><td>null</td><td>null</td><td>null</td><td>null</td><td>null</td><td>null</td><td>null</td><td>null</td><td>14/11/2024</td></tr><tr><td>Rio de Janeiro</td><td>Campos</td><td>6-BRSA-806-RJS</td><td>6CRT43RJS</td><td>CARATINGA</td><td>Petrobras</td><td>480000038989755</td><td>2011-01-01T00:00:00.000+0000</td><td>13362.6445</td><td>0.0</td><td>13362.6445</td><td>201.4088</td><td>0.0</td><td>201.4088</td><td>6229.03431</td><td>33.5677</td><td>PETROBRAS 48</td><td>UEP</td><td>0</td><td>null</td><td>null</td><td>null</td><td>< ºC</td><td>%</td><td>null</td><td>%</td><td>> ºC</td><td>%</td><td>null</td><td>null</td><td>null</td><td>null</td><td>null</td><td>null</td><td>null</td><td>null</td><td>null</td><td>null</td><td>null</td><td>null</td><td>null</td><td>null</td><td>null</td><td>null</td><td>null</td><td>null</td><td>null</td><td>14/11/2024</td></tr></tbody></table></div>"
      ]
     },
     "metadata": {
      "application/vnd.databricks.v1+output": {
       "addedWidgets": {},
       "aggData": [],
       "aggError": "",
       "aggOverflow": false,
       "aggSchema": [],
       "aggSeriesLimitReached": false,
       "aggType": "",
       "arguments": {},
       "columnCustomDisplayInfos": {},
       "data": [
        [
         "Rio de Janeiro",
         "Campos",
         "3-RJS-159-RJS",
         "3RJS 0159  RJ",
         "PAMPO",
         "Trident Energy",
         480000037079755,
         "2011-01-01T00:00:00.000+0000",
         293.0,
         0.0,
         293.0,
         8.1454,
         0.0,
         8.1454,
         250.19692,
         125.5683,
         "PLATAFORMA DE PAMPO-1",
         "UEP",
         0,
         null,
         null,
         null,
         "< ºC",
         "%",
         null,
         "%",
         "> ºC",
         "%",
         null,
         null,
         null,
         null,
         null,
         null,
         null,
         null,
         null,
         null,
         null,
         null,
         null,
         null,
         null,
         null,
         null,
         null,
         null,
         "14/11/2024"
        ],
        [
         "Rio de Janeiro",
         "Campos",
         "7-PM-17D-RJS",
         "7PM  0017D RJS",
         "PAMPO",
         "Trident Energy",
         480000037079755,
         "2011-01-01T00:00:00.000+0000",
         196.6633,
         0.0,
         196.6633,
         3.0835,
         0.0,
         3.0835,
         94.71385,
         12.55,
         "PLATAFORMA DE PAMPO-1",
         "UEP",
         0,
         null,
         null,
         null,
         "< ºC",
         "%",
         null,
         "%",
         "> ºC",
         "%",
         null,
         null,
         null,
         null,
         null,
         null,
         null,
         null,
         null,
         null,
         null,
         null,
         null,
         null,
         null,
         null,
         null,
         null,
         null,
         "14/11/2024"
        ],
        [
         "Rio de Janeiro",
         "Campos",
         "6-BRSA-806-RJS",
         "6CRT43RJS",
         "CARATINGA",
         "Petrobras",
         480000038989755,
         "2011-01-01T00:00:00.000+0000",
         13362.6445,
         0.0,
         13362.6445,
         201.4088,
         0.0,
         201.4088,
         6229.03431,
         33.5677,
         "PETROBRAS 48",
         "UEP",
         0,
         null,
         null,
         null,
         "< ºC",
         "%",
         null,
         "%",
         "> ºC",
         "%",
         null,
         null,
         null,
         null,
         null,
         null,
         null,
         null,
         null,
         null,
         null,
         null,
         null,
         null,
         null,
         null,
         null,
         null,
         null,
         "14/11/2024"
        ]
       ],
       "datasetInfos": [],
       "dbfsResultPath": null,
       "isJsonSchema": true,
       "metadata": {},
       "overflow": false,
       "plotOptions": {
        "customPlotOptions": {},
        "displayType": "table",
        "pivotAggregation": null,
        "pivotColumns": null,
        "xColumns": null,
        "yColumns": null
       },
       "removedWidgets": [],
       "schema": [
        {
         "metadata": "{}",
         "name": "estado",
         "type": "\"string\""
        },
        {
         "metadata": "{}",
         "name": "bacia",
         "type": "\"string\""
        },
        {
         "metadata": "{}",
         "name": "nome_poco_anp",
         "type": "\"string\""
        },
        {
         "metadata": "{}",
         "name": "nome_poco_operador",
         "type": "\"string\""
        },
        {
         "metadata": "{}",
         "name": "campo",
         "type": "\"string\""
        },
        {
         "metadata": "{}",
         "name": "operador",
         "type": "\"string\""
        },
        {
         "metadata": "{}",
         "name": "numero_contrato",
         "type": "\"long\""
        },
        {
         "metadata": "{}",
         "name": "periodo",
         "type": "\"timestamp\""
        },
        {
         "metadata": "{}",
         "name": "oleo_bbldia",
         "type": "\"double\""
        },
        {
         "metadata": "{}",
         "name": "condensado_bbldia",
         "type": "\"double\""
        },
        {
         "metadata": "{}",
         "name": "petroleo_bbldia",
         "type": "\"double\""
        },
        {
         "metadata": "{}",
         "name": "gas_natural_m3dia_assoc",
         "type": "\"double\""
        },
        {
         "metadata": "{}",
         "name": "gas_natural_m3dia_nassoc",
         "type": "\"double\""
        },
        {
         "metadata": "{}",
         "name": "gas_natural_m3dia_total",
         "type": "\"double\""
        },
        {
         "metadata": "{}",
         "name": "volume_gas_royalties_m3mes",
         "type": "\"double\""
        },
        {
         "metadata": "{}",
         "name": "agua_bbldia",
         "type": "\"double\""
        },
        {
         "metadata": "{}",
         "name": "instalacao_destino",
         "type": "\"string\""
        },
        {
         "metadata": "{}",
         "name": "tipo_instalacao",
         "type": "\"string\""
        },
        {
         "metadata": "{}",
         "name": "tempo_producao_hspormes",
         "type": "\"long\""
        },
        {
         "metadata": "{}",
         "name": "periodo_carga",
         "type": "\"void\""
        },
        {
         "metadata": "{}",
         "name": "corrente",
         "type": "\"void\""
        },
        {
         "metadata": "{}",
         "name": "grau_api",
         "type": "\"void\""
        },
        {
         "metadata": "{}",
         "name": "fracao_destilados_lev_corte",
         "type": "\"string\""
        },
        {
         "metadata": "{}",
         "name": "fracao_destilados_lev_vol",
         "type": "\"string\""
        },
        {
         "metadata": "{}",
         "name": "fracao_destilados_med_corte",
         "type": "\"void\""
        },
        {
         "metadata": "{}",
         "name": "fracao_destilados_med_vol",
         "type": "\"string\""
        },
        {
         "metadata": "{}",
         "name": "fracao_destilados_pes_corte",
         "type": "\"string\""
        },
        {
         "metadata": "{}",
         "name": "fracao_destilados_pes_vol",
         "type": "\"string\""
        },
        {
         "metadata": "{}",
         "name": "perc_vol_metano",
         "type": "\"void\""
        },
        {
         "metadata": "{}",
         "name": "perc_vol_etano",
         "type": "\"void\""
        },
        {
         "metadata": "{}",
         "name": "perc_vol_propano",
         "type": "\"void\""
        },
        {
         "metadata": "{}",
         "name": "perc_vol_isobutano",
         "type": "\"void\""
        },
        {
         "metadata": "{}",
         "name": "perc_vol_butano",
         "type": "\"void\""
        },
        {
         "metadata": "{}",
         "name": "perc_vol_isopentano",
         "type": "\"void\""
        },
        {
         "metadata": "{}",
         "name": "perc_vol_npentano",
         "type": "\"void\""
        },
        {
         "metadata": "{}",
         "name": "perc_vol_hexanos",
         "type": "\"void\""
        },
        {
         "metadata": "{}",
         "name": "perc_vol_heptanos",
         "type": "\"void\""
        },
        {
         "metadata": "{}",
         "name": "perc_vol_octanos",
         "type": "\"void\""
        },
        {
         "metadata": "{}",
         "name": "perc_vol_nonanos",
         "type": "\"void\""
        },
        {
         "metadata": "{}",
         "name": "perc_vol_decanos",
         "type": "\"void\""
        },
        {
         "metadata": "{}",
         "name": "perc_vol_undecanos",
         "type": "\"double\""
        },
        {
         "metadata": "{}",
         "name": "perc_vol_oxigenio",
         "type": "\"void\""
        },
        {
         "metadata": "{}",
         "name": "perc_vol_nitrogenio",
         "type": "\"void\""
        },
        {
         "metadata": "{}",
         "name": "perc_vol_gas_carbonico",
         "type": "\"void\""
        },
        {
         "metadata": "{}",
         "name": "densidade_glp_gas",
         "type": "\"void\""
        },
        {
         "metadata": "{}",
         "name": "densidade_glp_liquido",
         "type": "\"void\""
        },
        {
         "metadata": "{}",
         "name": "pcs_gp_kj_m3",
         "type": "\"void\""
        },
        {
         "metadata": "{}",
         "name": "data_atualizacao",
         "type": "\"string\""
        }
       ],
       "type": "table"
      }
     },
     "output_type": "display_data"
    }
   ],
   "source": [
    "# Renomeando as colunas para nomes mais simplificados e claros\n",
    "for df in [df_pre_sal, df_mar]:\n",
    "  df.columns = [\n",
    "    \"estado\", \"bacia\", \"nome_poco_anp\", \"nome_poco_operador\", \"campo\", \"operador\",\n",
    "    \"numero_contrato\", \"periodo\", \"oleo_bbldia\", \"condensado_bbldia\", \"petroleo_bbldia\",\n",
    "    \"gas_natural_m3dia_assoc\", \"gas_natural_m3dia_nassoc\", \"gas_natural_m3dia_total\",\n",
    "    \"volume_gas_royalties_m3mes\", \"agua_bbldia\", \"instalacao_destino\", \"tipo_instalacao\",\n",
    "    \"tempo_producao_hspormes\", \"periodo_carga\", \"corrente\", \"grau_api\",\n",
    "    \"fracao_destilados_lev_corte\", \"fracao_destilados_lev_vol\", \"fracao_destilados_med_corte\",\n",
    "    \"fracao_destilados_med_vol\", \"fracao_destilados_pes_corte\", \"fracao_destilados_pes_vol\",\n",
    "    \"perc_vol_metano\", \"perc_vol_etano\", \"perc_vol_propano\", \"perc_vol_isobutano\", \"perc_vol_butano\",\n",
    "    \"perc_vol_isopentano\", \"perc_vol_npentano\", \"perc_vol_hexanos\", \"perc_vol_heptanos\",\n",
    "    \"perc_vol_octanos\", \"perc_vol_nonanos\", \"perc_vol_decanos\", \"perc_vol_undecanos\",\n",
    "    \"perc_vol_oxigenio\", \"perc_vol_nitrogenio\", \"perc_vol_gas_carbonico\", \"densidade_glp_gas\",\n",
    "    \"densidade_glp_liquido\", \"pcs_gp_kj_m3\", \"data_atualizacao\"\n",
    "]\n",
    "  \n",
    "colunas_datetime = [\n",
    "    \"periodo\",\n",
    "]\n",
    "\n",
    "# Listagem das colunas a serem convertidas para float\n",
    "colunas_str_to_float = [\n",
    "    \"oleo_bbldia\",\n",
    "    \"petroleo_bbldia\",\n",
    "    \"gas_natural_m3dia_assoc\",\n",
    "    \"gas_natural_m3dia_total\",\n",
    "    \"volume_gas_royalties_m3mes\",\n",
    "    \"agua_bbldia\",\n",
    "    \"condensado_bbldia\",\n",
    "    \"gas_natural_m3dia_nassoc\"\n",
    "]\n",
    "\n",
    "\n",
    "# Substituir vírgulas por pontos e converter para float\n",
    "#for coluna in colunas_str_to_float:\n",
    "#    df_production[coluna] = df_production[coluna].str.replace(',', '.').astype(float)\n",
    "\n",
    "# Substituir vírgulas por pontos e converter para float\n",
    "for coluna in colunas_str_to_float:\n",
    "    # Garantir que a coluna seja do tipo string antes de aplicar .str.replace()\n",
    "    df_pre_sal[coluna] = df_pre_sal[coluna].astype(str).str.replace(',', '.').astype(float)\n",
    "\n",
    "\n",
    "df_pre_sal['condensado_bbldia'] = df_pre_sal['condensado_bbldia'].astype(float)\n",
    "\n",
    "# Aplicando formato de data datetime na coluna 'periodo'\n",
    "for coluna in colunas_datetime:\n",
    "    df_pre_sal[coluna] = pd.to_datetime(df_pre_sal[coluna], format='%Y/%m')\n",
    "\n",
    "# Verificar os tipos de dados das colunas após conversão\n",
    "print(\"\\n Tipos de dados das colunas após conversão \\n\\n\", df_pre_sal.dtypes)\n",
    "\n",
    "# Verificar as primeiras linhas do DataFrame para confirmar as conversões\n",
    "display(df_pre_sal.head(3))"
   ]
  },
  {
   "cell_type": "code",
   "execution_count": 0,
   "metadata": {
    "application/vnd.databricks.v1+cell": {
     "cellMetadata": {
      "byteLimit": 2048000,
      "rowLimit": 10000
     },
     "inputWidgets": {},
     "nuid": "370f460e-0429-4886-8979-e1142e7ab988",
     "showTitle": false,
     "tableResultSettingsMap": {},
     "title": ""
    }
   },
   "outputs": [
    {
     "output_type": "stream",
     "name": "stdout",
     "output_type": "stream",
     "text": [
      "\n Tipos de dados das colunas após conversão \n\n estado                                 object\nbacia                                  object\nnome_poco_anp                          object\nnome_poco_operador                     object\ncampo                                  object\noperador                               object\nnumero_contrato                        object\nperiodo                        datetime64[ns]\noleo_bbldia                           float64\ncondensado_bbldia                     float64\npetroleo_bbldia                       float64\ngas_natural_m3dia_assoc               float64\ngas_natural_m3dia_nassoc              float64\ngas_natural_m3dia_total               float64\nvolume_gas_royalties_m3mes            float64\nagua_bbldia                           float64\ninstalacao_destino                     object\ntipo_instalacao                        object\ntempo_producao_hspormes                 int64\nperiodo_carga                          object\ncorrente                               object\ngrau_api                               object\nfracao_destilados_lev_corte            object\nfracao_destilados_lev_vol              object\nfracao_destilados_med_corte            object\nfracao_destilados_med_vol              object\nfracao_destilados_pes_corte            object\nfracao_destilados_pes_vol              object\nperc_vol_metano                        object\nperc_vol_etano                         object\nperc_vol_propano                       object\nperc_vol_isobutano                     object\nperc_vol_butano                        object\nperc_vol_isopentano                    object\nperc_vol_npentano                      object\nperc_vol_hexanos                       object\nperc_vol_heptanos                      object\nperc_vol_octanos                       object\nperc_vol_nonanos                       object\nperc_vol_decanos                       object\nperc_vol_undecanos                     object\nperc_vol_oxigenio                      object\nperc_vol_nitrogenio                    object\nperc_vol_gas_carbonico                 object\ndensidade_glp_gas                      object\ndensidade_glp_liquido                  object\npcs_gp_kj_m3                           object\ndata_atualizacao                       object\ndtype: object\n"
     ]
    },
    {
     "output_type": "display_data",
     "data": {
      "text/html": [
       "<style scoped>\n",
       "  .table-result-container {\n",
       "    max-height: 300px;\n",
       "    overflow: auto;\n",
       "  }\n",
       "  table, th, td {\n",
       "    border: 1px solid black;\n",
       "    border-collapse: collapse;\n",
       "  }\n",
       "  th, td {\n",
       "    padding: 5px;\n",
       "  }\n",
       "  th {\n",
       "    text-align: left;\n",
       "  }\n",
       "</style><div class='table-result-container'><table class='table-result'><thead style='background-color: white'><tr><th>estado</th><th>bacia</th><th>nome_poco_anp</th><th>nome_poco_operador</th><th>campo</th><th>operador</th><th>numero_contrato</th><th>periodo</th><th>oleo_bbldia</th><th>condensado_bbldia</th><th>petroleo_bbldia</th><th>gas_natural_m3dia_assoc</th><th>gas_natural_m3dia_nassoc</th><th>gas_natural_m3dia_total</th><th>volume_gas_royalties_m3mes</th><th>agua_bbldia</th><th>instalacao_destino</th><th>tipo_instalacao</th><th>tempo_producao_hspormes</th><th>periodo_carga</th><th>corrente</th><th>grau_api</th><th>fracao_destilados_lev_corte</th><th>fracao_destilados_lev_vol</th><th>fracao_destilados_med_corte</th><th>fracao_destilados_med_vol</th><th>fracao_destilados_pes_corte</th><th>fracao_destilados_pes_vol</th><th>perc_vol_metano</th><th>perc_vol_etano</th><th>perc_vol_propano</th><th>perc_vol_isobutano</th><th>perc_vol_butano</th><th>perc_vol_isopentano</th><th>perc_vol_npentano</th><th>perc_vol_hexanos</th><th>perc_vol_heptanos</th><th>perc_vol_octanos</th><th>perc_vol_nonanos</th><th>perc_vol_decanos</th><th>perc_vol_undecanos</th><th>perc_vol_oxigenio</th><th>perc_vol_nitrogenio</th><th>perc_vol_gas_carbonico</th><th>densidade_glp_gas</th><th>densidade_glp_liquido</th><th>pcs_gp_kj_m3</th><th>data_atualizacao</th></tr></thead><tbody><tr><td>Sergipe</td><td>Sergipe</td><td>7-GA-15-SES</td><td>7GA  0015  SES</td><td>GUARICEMA</td><td>Petrobras</td><td>480000038399796</td><td>1980-01-01T00:00:00.000+0000</td><td>433.1041</td><td>0.0</td><td>433.1041</td><td>17.1308</td><td>0.0</td><td>17.1308</td><td>0.0</td><td>1.0956</td><td>null</td><td>null</td><td>0</td><td>null</td><td>null</td><td>null</td><td>< ºC</td><td>%</td><td>null</td><td>%</td><td>> ºC</td><td>%</td><td>null</td><td>null</td><td>null</td><td>null</td><td>null</td><td>null</td><td>null</td><td>null</td><td>null</td><td>null</td><td>null</td><td>null</td><td>null</td><td>null</td><td>null</td><td>null</td><td>null</td><td>null</td><td>null</td><td>14/11/2024</td></tr><tr><td>Sergipe</td><td>Sergipe</td><td>7-GA-18D-SES</td><td>7GA  0018D SES</td><td>GUARICEMA</td><td>Petrobras</td><td>480000038399796</td><td>1980-01-01T00:00:00.000+0000</td><td>300.0239</td><td>0.0</td><td>300.0239</td><td>3.7661</td><td>0.0</td><td>3.7661</td><td>0.0</td><td>0.629</td><td>null</td><td>null</td><td>0</td><td>null</td><td>null</td><td>null</td><td>< ºC</td><td>%</td><td>null</td><td>%</td><td>> ºC</td><td>%</td><td>null</td><td>null</td><td>null</td><td>null</td><td>null</td><td>null</td><td>null</td><td>null</td><td>null</td><td>null</td><td>null</td><td>null</td><td>null</td><td>null</td><td>null</td><td>null</td><td>null</td><td>null</td><td>null</td><td>14/11/2024</td></tr><tr><td>Sergipe</td><td>Sergipe</td><td>7-GA-19D-SES</td><td>7GA  0019D SES</td><td>GUARICEMA</td><td>Petrobras</td><td>480000038399796</td><td>1980-01-01T00:00:00.000+0000</td><td>71.0343</td><td>0.0</td><td>71.0343</td><td>7.9663</td><td>0.0</td><td>7.9663</td><td>0.0</td><td>0.1217</td><td>null</td><td>null</td><td>0</td><td>null</td><td>null</td><td>null</td><td>< ºC</td><td>%</td><td>null</td><td>%</td><td>> ºC</td><td>%</td><td>null</td><td>null</td><td>null</td><td>null</td><td>null</td><td>null</td><td>null</td><td>null</td><td>null</td><td>null</td><td>null</td><td>null</td><td>null</td><td>null</td><td>null</td><td>null</td><td>null</td><td>null</td><td>null</td><td>14/11/2024</td></tr></tbody></table></div>"
      ]
     },
     "metadata": {
      "application/vnd.databricks.v1+output": {
       "addedWidgets": {},
       "aggData": [],
       "aggError": "",
       "aggOverflow": false,
       "aggSchema": [],
       "aggSeriesLimitReached": false,
       "aggType": "",
       "arguments": {},
       "columnCustomDisplayInfos": {},
       "data": [
        [
         "Sergipe",
         "Sergipe",
         "7-GA-15-SES",
         "7GA  0015  SES",
         "GUARICEMA",
         "Petrobras",
         "480000038399796",
         "1980-01-01T00:00:00.000+0000",
         433.1041,
         0.0,
         433.1041,
         17.1308,
         0.0,
         17.1308,
         0.0,
         1.0956,
         null,
         null,
         0,
         null,
         null,
         null,
         "< ºC",
         "%",
         null,
         "%",
         "> ºC",
         "%",
         null,
         null,
         null,
         null,
         null,
         null,
         null,
         null,
         null,
         null,
         null,
         null,
         null,
         null,
         null,
         null,
         null,
         null,
         null,
         "14/11/2024"
        ],
        [
         "Sergipe",
         "Sergipe",
         "7-GA-18D-SES",
         "7GA  0018D SES",
         "GUARICEMA",
         "Petrobras",
         "480000038399796",
         "1980-01-01T00:00:00.000+0000",
         300.0239,
         0.0,
         300.0239,
         3.7661,
         0.0,
         3.7661,
         0.0,
         0.629,
         null,
         null,
         0,
         null,
         null,
         null,
         "< ºC",
         "%",
         null,
         "%",
         "> ºC",
         "%",
         null,
         null,
         null,
         null,
         null,
         null,
         null,
         null,
         null,
         null,
         null,
         null,
         null,
         null,
         null,
         null,
         null,
         null,
         null,
         "14/11/2024"
        ],
        [
         "Sergipe",
         "Sergipe",
         "7-GA-19D-SES",
         "7GA  0019D SES",
         "GUARICEMA",
         "Petrobras",
         "480000038399796",
         "1980-01-01T00:00:00.000+0000",
         71.0343,
         0.0,
         71.0343,
         7.9663,
         0.0,
         7.9663,
         0.0,
         0.1217,
         null,
         null,
         0,
         null,
         null,
         null,
         "< ºC",
         "%",
         null,
         "%",
         "> ºC",
         "%",
         null,
         null,
         null,
         null,
         null,
         null,
         null,
         null,
         null,
         null,
         null,
         null,
         null,
         null,
         null,
         null,
         null,
         null,
         null,
         "14/11/2024"
        ]
       ],
       "datasetInfos": [],
       "dbfsResultPath": null,
       "isJsonSchema": true,
       "metadata": {},
       "overflow": false,
       "plotOptions": {
        "customPlotOptions": {},
        "displayType": "table",
        "pivotAggregation": null,
        "pivotColumns": null,
        "xColumns": null,
        "yColumns": null
       },
       "removedWidgets": [],
       "schema": [
        {
         "metadata": "{}",
         "name": "estado",
         "type": "\"string\""
        },
        {
         "metadata": "{}",
         "name": "bacia",
         "type": "\"string\""
        },
        {
         "metadata": "{}",
         "name": "nome_poco_anp",
         "type": "\"string\""
        },
        {
         "metadata": "{}",
         "name": "nome_poco_operador",
         "type": "\"string\""
        },
        {
         "metadata": "{}",
         "name": "campo",
         "type": "\"string\""
        },
        {
         "metadata": "{}",
         "name": "operador",
         "type": "\"string\""
        },
        {
         "metadata": "{}",
         "name": "numero_contrato",
         "type": "\"string\""
        },
        {
         "metadata": "{}",
         "name": "periodo",
         "type": "\"timestamp\""
        },
        {
         "metadata": "{}",
         "name": "oleo_bbldia",
         "type": "\"double\""
        },
        {
         "metadata": "{}",
         "name": "condensado_bbldia",
         "type": "\"double\""
        },
        {
         "metadata": "{}",
         "name": "petroleo_bbldia",
         "type": "\"double\""
        },
        {
         "metadata": "{}",
         "name": "gas_natural_m3dia_assoc",
         "type": "\"double\""
        },
        {
         "metadata": "{}",
         "name": "gas_natural_m3dia_nassoc",
         "type": "\"double\""
        },
        {
         "metadata": "{}",
         "name": "gas_natural_m3dia_total",
         "type": "\"double\""
        },
        {
         "metadata": "{}",
         "name": "volume_gas_royalties_m3mes",
         "type": "\"double\""
        },
        {
         "metadata": "{}",
         "name": "agua_bbldia",
         "type": "\"double\""
        },
        {
         "metadata": "{}",
         "name": "instalacao_destino",
         "type": "\"void\""
        },
        {
         "metadata": "{}",
         "name": "tipo_instalacao",
         "type": "\"void\""
        },
        {
         "metadata": "{}",
         "name": "tempo_producao_hspormes",
         "type": "\"long\""
        },
        {
         "metadata": "{}",
         "name": "periodo_carga",
         "type": "\"void\""
        },
        {
         "metadata": "{}",
         "name": "corrente",
         "type": "\"void\""
        },
        {
         "metadata": "{}",
         "name": "grau_api",
         "type": "\"void\""
        },
        {
         "metadata": "{}",
         "name": "fracao_destilados_lev_corte",
         "type": "\"string\""
        },
        {
         "metadata": "{}",
         "name": "fracao_destilados_lev_vol",
         "type": "\"string\""
        },
        {
         "metadata": "{}",
         "name": "fracao_destilados_med_corte",
         "type": "\"void\""
        },
        {
         "metadata": "{}",
         "name": "fracao_destilados_med_vol",
         "type": "\"string\""
        },
        {
         "metadata": "{}",
         "name": "fracao_destilados_pes_corte",
         "type": "\"string\""
        },
        {
         "metadata": "{}",
         "name": "fracao_destilados_pes_vol",
         "type": "\"string\""
        },
        {
         "metadata": "{}",
         "name": "perc_vol_metano",
         "type": "\"void\""
        },
        {
         "metadata": "{}",
         "name": "perc_vol_etano",
         "type": "\"void\""
        },
        {
         "metadata": "{}",
         "name": "perc_vol_propano",
         "type": "\"void\""
        },
        {
         "metadata": "{}",
         "name": "perc_vol_isobutano",
         "type": "\"void\""
        },
        {
         "metadata": "{}",
         "name": "perc_vol_butano",
         "type": "\"void\""
        },
        {
         "metadata": "{}",
         "name": "perc_vol_isopentano",
         "type": "\"void\""
        },
        {
         "metadata": "{}",
         "name": "perc_vol_npentano",
         "type": "\"void\""
        },
        {
         "metadata": "{}",
         "name": "perc_vol_hexanos",
         "type": "\"void\""
        },
        {
         "metadata": "{}",
         "name": "perc_vol_heptanos",
         "type": "\"void\""
        },
        {
         "metadata": "{}",
         "name": "perc_vol_octanos",
         "type": "\"void\""
        },
        {
         "metadata": "{}",
         "name": "perc_vol_nonanos",
         "type": "\"void\""
        },
        {
         "metadata": "{}",
         "name": "perc_vol_decanos",
         "type": "\"void\""
        },
        {
         "metadata": "{}",
         "name": "perc_vol_undecanos",
         "type": "\"void\""
        },
        {
         "metadata": "{}",
         "name": "perc_vol_oxigenio",
         "type": "\"void\""
        },
        {
         "metadata": "{}",
         "name": "perc_vol_nitrogenio",
         "type": "\"void\""
        },
        {
         "metadata": "{}",
         "name": "perc_vol_gas_carbonico",
         "type": "\"void\""
        },
        {
         "metadata": "{}",
         "name": "densidade_glp_gas",
         "type": "\"void\""
        },
        {
         "metadata": "{}",
         "name": "densidade_glp_liquido",
         "type": "\"void\""
        },
        {
         "metadata": "{}",
         "name": "pcs_gp_kj_m3",
         "type": "\"void\""
        },
        {
         "metadata": "{}",
         "name": "data_atualizacao",
         "type": "\"string\""
        }
       ],
       "type": "table"
      }
     },
     "output_type": "display_data"
    }
   ],
   "source": [
    "colunas_datetime = [\n",
    "    \"periodo\",\n",
    "]\n",
    "\n",
    "# Listagem das colunas a serem convertidas para float\n",
    "colunas_str_to_float = [\n",
    "    \"oleo_bbldia\",\n",
    "    \"petroleo_bbldia\",\n",
    "    \"gas_natural_m3dia_assoc\",\n",
    "    \"gas_natural_m3dia_total\",\n",
    "    \"volume_gas_royalties_m3mes\",\n",
    "    \"agua_bbldia\",\n",
    "    \"condensado_bbldia\",\n",
    "    \"gas_natural_m3dia_nassoc\"\n",
    "]\n",
    "\n",
    "# Substituir vírgulas por pontos e converter para float\n",
    "#for coluna in colunas_str_to_float:\n",
    "#    df_production[coluna] = df_production[coluna].str.replace(',', '.').astype(float)\n",
    "\n",
    "# Substituir vírgulas por pontos e converter para float\n",
    "for coluna in colunas_str_to_float:\n",
    "    # Garantir que a coluna seja do tipo string antes de aplicar .str.replace()\n",
    "    df_mar[coluna] = df_mar[coluna].astype(str).str.replace(',', '.').astype(float)\n",
    "\n",
    "df_mar['condensado_bbldia'] = df_mar['condensado_bbldia'].astype(float)\n",
    "\n",
    "# Aplicando formato de data datetime na coluna 'periodo'\n",
    "for coluna in colunas_datetime:\n",
    "    df_mar[coluna] = pd.to_datetime(df_mar[coluna], format='%Y/%m')\n",
    "\n",
    "# Verificar os tipos de dados das colunas após conversão\n",
    "print(\"\\n Tipos de dados das colunas após conversão \\n\\n\", df_mar.dtypes)\n",
    "\n",
    "# Verificar as primeiras linhas do DataFrame para confirmar as conversões\n",
    "display(df_mar.head(3))"
   ]
  },
  {
   "cell_type": "code",
   "execution_count": 0,
   "metadata": {
    "application/vnd.databricks.v1+cell": {
     "cellMetadata": {
      "byteLimit": 2048000,
      "rowLimit": 10000
     },
     "inputWidgets": {},
     "nuid": "bd1258b1-0bc5-4bc6-85ca-f9f9491e418d",
     "showTitle": false,
     "tableResultSettingsMap": {},
     "title": ""
    }
   },
   "outputs": [
    {
     "output_type": "display_data",
     "data": {
      "text/html": [
       "<style scoped>\n",
       "  .table-result-container {\n",
       "    max-height: 300px;\n",
       "    overflow: auto;\n",
       "  }\n",
       "  table, th, td {\n",
       "    border: 1px solid black;\n",
       "    border-collapse: collapse;\n",
       "  }\n",
       "  th, td {\n",
       "    padding: 5px;\n",
       "  }\n",
       "  th {\n",
       "    text-align: left;\n",
       "  }\n",
       "</style><div class='table-result-container'><table class='table-result'><thead style='background-color: white'><tr><th>estado</th><th>bacia</th><th>nome_poco_anp</th><th>nome_poco_operador</th><th>campo</th><th>operador</th><th>numero_contrato</th><th>periodo</th><th>oleo_bbldia</th><th>condensado_bbldia</th><th>petroleo_bbldia</th><th>gas_natural_m3dia_assoc</th><th>gas_natural_m3dia_nassoc</th><th>gas_natural_m3dia_total</th><th>volume_gas_royalties_m3mes</th><th>agua_bbldia</th><th>instalacao_destino</th><th>tipo_instalacao</th><th>tempo_producao_hspormes</th><th>periodo_carga</th><th>corrente</th><th>grau_api</th><th>fracao_destilados_lev_corte</th><th>fracao_destilados_lev_vol</th><th>fracao_destilados_med_corte</th><th>fracao_destilados_med_vol</th><th>fracao_destilados_pes_corte</th><th>fracao_destilados_pes_vol</th><th>perc_vol_metano</th><th>perc_vol_etano</th><th>perc_vol_propano</th><th>perc_vol_isobutano</th><th>perc_vol_butano</th><th>perc_vol_isopentano</th><th>perc_vol_npentano</th><th>perc_vol_hexanos</th><th>perc_vol_heptanos</th><th>perc_vol_octanos</th><th>perc_vol_nonanos</th><th>perc_vol_decanos</th><th>perc_vol_undecanos</th><th>perc_vol_oxigenio</th><th>perc_vol_nitrogenio</th><th>perc_vol_gas_carbonico</th><th>densidade_glp_gas</th><th>densidade_glp_liquido</th><th>pcs_gp_kj_m3</th><th>data_atualizacao</th></tr></thead><tbody><tr><td>Rio de Janeiro</td><td>Campos</td><td>3-RJS-159-RJS</td><td>3RJS 0159  RJ</td><td>PAMPO</td><td>Trident Energy</td><td>480000037079755</td><td>2011-01-01T00:00:00.000+0000</td><td>293.0</td><td>0.0</td><td>293.0</td><td>8.1454</td><td>0.0</td><td>8.1454</td><td>250.19692</td><td>125.5683</td><td>PLATAFORMA DE PAMPO-1</td><td>UEP</td><td>0</td><td>null</td><td>null</td><td>null</td><td>< ºC</td><td>%</td><td>null</td><td>%</td><td>> ºC</td><td>%</td><td>null</td><td>null</td><td>null</td><td>null</td><td>null</td><td>null</td><td>null</td><td>null</td><td>null</td><td>null</td><td>null</td><td>null</td><td>null</td><td>null</td><td>null</td><td>null</td><td>null</td><td>null</td><td>null</td><td>14/11/2024</td></tr><tr><td>Rio de Janeiro</td><td>Campos</td><td>7-PM-17D-RJS</td><td>7PM  0017D RJS</td><td>PAMPO</td><td>Trident Energy</td><td>480000037079755</td><td>2011-01-01T00:00:00.000+0000</td><td>196.6633</td><td>0.0</td><td>196.6633</td><td>3.0835</td><td>0.0</td><td>3.0835</td><td>94.71385</td><td>12.55</td><td>PLATAFORMA DE PAMPO-1</td><td>UEP</td><td>0</td><td>null</td><td>null</td><td>null</td><td>< ºC</td><td>%</td><td>null</td><td>%</td><td>> ºC</td><td>%</td><td>null</td><td>null</td><td>null</td><td>null</td><td>null</td><td>null</td><td>null</td><td>null</td><td>null</td><td>null</td><td>null</td><td>null</td><td>null</td><td>null</td><td>null</td><td>null</td><td>null</td><td>null</td><td>null</td><td>14/11/2024</td></tr><tr><td>Rio de Janeiro</td><td>Campos</td><td>6-BRSA-806-RJS</td><td>6CRT43RJS</td><td>CARATINGA</td><td>Petrobras</td><td>480000038989755</td><td>2011-01-01T00:00:00.000+0000</td><td>13362.6445</td><td>0.0</td><td>13362.6445</td><td>201.4088</td><td>0.0</td><td>201.4088</td><td>6229.03431</td><td>33.5677</td><td>PETROBRAS 48</td><td>UEP</td><td>0</td><td>null</td><td>null</td><td>null</td><td>< ºC</td><td>%</td><td>null</td><td>%</td><td>> ºC</td><td>%</td><td>null</td><td>null</td><td>null</td><td>null</td><td>null</td><td>null</td><td>null</td><td>null</td><td>null</td><td>null</td><td>null</td><td>null</td><td>null</td><td>null</td><td>null</td><td>null</td><td>null</td><td>null</td><td>null</td><td>14/11/2024</td></tr></tbody></table></div>"
      ]
     },
     "metadata": {
      "application/vnd.databricks.v1+output": {
       "addedWidgets": {},
       "aggData": [],
       "aggError": "",
       "aggOverflow": false,
       "aggSchema": [],
       "aggSeriesLimitReached": false,
       "aggType": "",
       "arguments": {},
       "columnCustomDisplayInfos": {},
       "data": [
        [
         "Rio de Janeiro",
         "Campos",
         "3-RJS-159-RJS",
         "3RJS 0159  RJ",
         "PAMPO",
         "Trident Energy",
         480000037079755,
         "2011-01-01T00:00:00.000+0000",
         293.0,
         0.0,
         293.0,
         8.1454,
         0.0,
         8.1454,
         250.19692,
         125.5683,
         "PLATAFORMA DE PAMPO-1",
         "UEP",
         0,
         null,
         null,
         null,
         "< ºC",
         "%",
         null,
         "%",
         "> ºC",
         "%",
         null,
         null,
         null,
         null,
         null,
         null,
         null,
         null,
         null,
         null,
         null,
         null,
         null,
         null,
         null,
         null,
         null,
         null,
         null,
         "14/11/2024"
        ],
        [
         "Rio de Janeiro",
         "Campos",
         "7-PM-17D-RJS",
         "7PM  0017D RJS",
         "PAMPO",
         "Trident Energy",
         480000037079755,
         "2011-01-01T00:00:00.000+0000",
         196.6633,
         0.0,
         196.6633,
         3.0835,
         0.0,
         3.0835,
         94.71385,
         12.55,
         "PLATAFORMA DE PAMPO-1",
         "UEP",
         0,
         null,
         null,
         null,
         "< ºC",
         "%",
         null,
         "%",
         "> ºC",
         "%",
         null,
         null,
         null,
         null,
         null,
         null,
         null,
         null,
         null,
         null,
         null,
         null,
         null,
         null,
         null,
         null,
         null,
         null,
         null,
         "14/11/2024"
        ],
        [
         "Rio de Janeiro",
         "Campos",
         "6-BRSA-806-RJS",
         "6CRT43RJS",
         "CARATINGA",
         "Petrobras",
         480000038989755,
         "2011-01-01T00:00:00.000+0000",
         13362.6445,
         0.0,
         13362.6445,
         201.4088,
         0.0,
         201.4088,
         6229.03431,
         33.5677,
         "PETROBRAS 48",
         "UEP",
         0,
         null,
         null,
         null,
         "< ºC",
         "%",
         null,
         "%",
         "> ºC",
         "%",
         null,
         null,
         null,
         null,
         null,
         null,
         null,
         null,
         null,
         null,
         null,
         null,
         null,
         null,
         null,
         null,
         null,
         null,
         null,
         "14/11/2024"
        ]
       ],
       "datasetInfos": [],
       "dbfsResultPath": null,
       "isJsonSchema": true,
       "metadata": {},
       "overflow": false,
       "plotOptions": {
        "customPlotOptions": {},
        "displayType": "table",
        "pivotAggregation": null,
        "pivotColumns": null,
        "xColumns": null,
        "yColumns": null
       },
       "removedWidgets": [],
       "schema": [
        {
         "metadata": "{}",
         "name": "estado",
         "type": "\"string\""
        },
        {
         "metadata": "{}",
         "name": "bacia",
         "type": "\"string\""
        },
        {
         "metadata": "{}",
         "name": "nome_poco_anp",
         "type": "\"string\""
        },
        {
         "metadata": "{}",
         "name": "nome_poco_operador",
         "type": "\"string\""
        },
        {
         "metadata": "{}",
         "name": "campo",
         "type": "\"string\""
        },
        {
         "metadata": "{}",
         "name": "operador",
         "type": "\"string\""
        },
        {
         "metadata": "{}",
         "name": "numero_contrato",
         "type": "\"long\""
        },
        {
         "metadata": "{}",
         "name": "periodo",
         "type": "\"timestamp\""
        },
        {
         "metadata": "{}",
         "name": "oleo_bbldia",
         "type": "\"double\""
        },
        {
         "metadata": "{}",
         "name": "condensado_bbldia",
         "type": "\"double\""
        },
        {
         "metadata": "{}",
         "name": "petroleo_bbldia",
         "type": "\"double\""
        },
        {
         "metadata": "{}",
         "name": "gas_natural_m3dia_assoc",
         "type": "\"double\""
        },
        {
         "metadata": "{}",
         "name": "gas_natural_m3dia_nassoc",
         "type": "\"double\""
        },
        {
         "metadata": "{}",
         "name": "gas_natural_m3dia_total",
         "type": "\"double\""
        },
        {
         "metadata": "{}",
         "name": "volume_gas_royalties_m3mes",
         "type": "\"double\""
        },
        {
         "metadata": "{}",
         "name": "agua_bbldia",
         "type": "\"double\""
        },
        {
         "metadata": "{}",
         "name": "instalacao_destino",
         "type": "\"string\""
        },
        {
         "metadata": "{}",
         "name": "tipo_instalacao",
         "type": "\"string\""
        },
        {
         "metadata": "{}",
         "name": "tempo_producao_hspormes",
         "type": "\"long\""
        },
        {
         "metadata": "{}",
         "name": "periodo_carga",
         "type": "\"void\""
        },
        {
         "metadata": "{}",
         "name": "corrente",
         "type": "\"void\""
        },
        {
         "metadata": "{}",
         "name": "grau_api",
         "type": "\"void\""
        },
        {
         "metadata": "{}",
         "name": "fracao_destilados_lev_corte",
         "type": "\"string\""
        },
        {
         "metadata": "{}",
         "name": "fracao_destilados_lev_vol",
         "type": "\"string\""
        },
        {
         "metadata": "{}",
         "name": "fracao_destilados_med_corte",
         "type": "\"void\""
        },
        {
         "metadata": "{}",
         "name": "fracao_destilados_med_vol",
         "type": "\"string\""
        },
        {
         "metadata": "{}",
         "name": "fracao_destilados_pes_corte",
         "type": "\"string\""
        },
        {
         "metadata": "{}",
         "name": "fracao_destilados_pes_vol",
         "type": "\"string\""
        },
        {
         "metadata": "{}",
         "name": "perc_vol_metano",
         "type": "\"void\""
        },
        {
         "metadata": "{}",
         "name": "perc_vol_etano",
         "type": "\"void\""
        },
        {
         "metadata": "{}",
         "name": "perc_vol_propano",
         "type": "\"void\""
        },
        {
         "metadata": "{}",
         "name": "perc_vol_isobutano",
         "type": "\"void\""
        },
        {
         "metadata": "{}",
         "name": "perc_vol_butano",
         "type": "\"void\""
        },
        {
         "metadata": "{}",
         "name": "perc_vol_isopentano",
         "type": "\"void\""
        },
        {
         "metadata": "{}",
         "name": "perc_vol_npentano",
         "type": "\"void\""
        },
        {
         "metadata": "{}",
         "name": "perc_vol_hexanos",
         "type": "\"void\""
        },
        {
         "metadata": "{}",
         "name": "perc_vol_heptanos",
         "type": "\"void\""
        },
        {
         "metadata": "{}",
         "name": "perc_vol_octanos",
         "type": "\"void\""
        },
        {
         "metadata": "{}",
         "name": "perc_vol_nonanos",
         "type": "\"void\""
        },
        {
         "metadata": "{}",
         "name": "perc_vol_decanos",
         "type": "\"void\""
        },
        {
         "metadata": "{}",
         "name": "perc_vol_undecanos",
         "type": "\"void\""
        },
        {
         "metadata": "{}",
         "name": "perc_vol_oxigenio",
         "type": "\"void\""
        },
        {
         "metadata": "{}",
         "name": "perc_vol_nitrogenio",
         "type": "\"void\""
        },
        {
         "metadata": "{}",
         "name": "perc_vol_gas_carbonico",
         "type": "\"void\""
        },
        {
         "metadata": "{}",
         "name": "densidade_glp_gas",
         "type": "\"void\""
        },
        {
         "metadata": "{}",
         "name": "densidade_glp_liquido",
         "type": "\"void\""
        },
        {
         "metadata": "{}",
         "name": "pcs_gp_kj_m3",
         "type": "\"void\""
        },
        {
         "metadata": "{}",
         "name": "data_atualizacao",
         "type": "\"string\""
        }
       ],
       "type": "table"
      }
     },
     "output_type": "display_data"
    },
    {
     "output_type": "stream",
     "name": "stdout",
     "output_type": "stream",
     "text": [
      "Total de Linhas: 476717 \nTotal de Colunas: 48\n"
     ]
    }
   ],
   "source": [
    "# Concatenando os dois DataFrames 'PreSal' e 'Mar' verticalmente\n",
    "df_production = pd.concat([df_pre_sal, df_mar], ignore_index=True)\n",
    "\n",
    "# Exibindo as primeiras linhas do DataFrame concatenado\n",
    "display(df_production.head(3))\n",
    "print('Total de Linhas:', df_production.shape[0], '\\nTotal de Colunas:', df_production.shape[1])"
   ]
  }
 ],
 "metadata": {
  "application/vnd.databricks.v1+notebook": {
   "computePreferences": null,
   "dashboards": [],
   "environmentMetadata": null,
   "inputWidgetPreferences": null,
   "language": "python",
   "notebookMetadata": {
    "mostRecentlyExecutedCommandWithImplicitDF": {
     "commandId": 559733592833006,
     "dataframes": [
      "_sqldf"
     ]
    },
    "pythonIndentUnit": 4
   },
   "notebookName": "MVP Engenharia de Dados - SCRAPER",
   "widgets": {}
  }
 },
 "nbformat": 4,
 "nbformat_minor": 0
}